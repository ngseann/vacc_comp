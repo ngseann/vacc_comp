{
 "cells": [
  {
   "cell_type": "markdown",
   "id": "5d644158",
   "metadata": {},
   "source": [
    "# Parallelization"
   ]
  },
  {
   "cell_type": "code",
   "execution_count": null,
   "id": "415ba3ef",
   "metadata": {},
   "outputs": [],
   "source": [
    "from joblib import parallel_backend\n",
    "import ray\n",
    "ray.init()\n",
    "from ray.util.joblib import register_ray\n",
    "register_ray()"
   ]
  },
  {
   "cell_type": "code",
   "execution_count": null,
   "id": "c2c69725",
   "metadata": {},
   "outputs": [],
   "source": [
    "# try with parallelization\n",
    "with parallel_backend(\"ray\"):\n",
    "    start = time.time()\n",
    "    full_pipeline.fit(X_train, y_train)\n",
    "    end = time.time()\n",
    "    print(end-start)"
   ]
  }
 ],
 "metadata": {
  "kernelspec": {
   "display_name": "Python 3 (ipykernel)",
   "language": "python",
   "name": "python3"
  },
  "language_info": {
   "codemirror_mode": {
    "name": "ipython",
    "version": 3
   },
   "file_extension": ".py",
   "mimetype": "text/x-python",
   "name": "python",
   "nbconvert_exporter": "python",
   "pygments_lexer": "ipython3",
   "version": "3.11.3"
  }
 },
 "nbformat": 4,
 "nbformat_minor": 5
}
